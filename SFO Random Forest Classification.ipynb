{
 "cells": [
  {
   "cell_type": "code",
   "execution_count": 1,
   "id": "b33135e9",
   "metadata": {},
   "outputs": [],
   "source": [
    "#Libraries used\n",
    "import pandas as pd\n",
    "from sklearn.preprocessing import OneHotEncoder\n",
    "from sklearn.ensemble import RandomForestClassifier\n",
    "from sklearn.metrics import f1_score\n",
    "from sklearn.metrics import confusion_matrix\n",
    "import matplotlib.pyplot as plt\n",
    "import warnings"
   ]
  },
  {
   "cell_type": "code",
   "execution_count": 2,
   "id": "092567f7",
   "metadata": {},
   "outputs": [],
   "source": [
    "# Ignore warnings\n",
    "warnings.filterwarnings('ignore')"
   ]
  },
  {
   "cell_type": "code",
   "execution_count": 3,
   "id": "f234fce2",
   "metadata": {},
   "outputs": [
    {
     "name": "stdout",
     "output_type": "stream",
     "text": [
      "  Carrier Code Date (MM/DD/YYYY)  Flight Number Tail Number  \\\n",
      "0           UA          1/1/2010            6.0      N508UA   \n",
      "1           UA          1/1/2010            8.0      N505UA   \n",
      "2           UA          1/1/2010           10.0      N560UA   \n",
      "3           UA          1/1/2010           11.0      N847UA   \n",
      "4           UA          1/1/2010           34.0      N508UA   \n",
      "\n",
      "  Destination Airport Scheduled departure time Actual departure time  \\\n",
      "0                 JFK                     7:28                  7:28   \n",
      "1                 JFK                     9:22                  9:17   \n",
      "2                 JFK                    13:54                 13:54   \n",
      "3                 PHL                    22:55                 22:52   \n",
      "4                 JFK                    22:20                 22:19   \n",
      "\n",
      "   Scheduled elapsed time (Minutes)  Actual elapsed time (Minutes)  \\\n",
      "0                             331.0                          316.0   \n",
      "1                             347.0                          333.0   \n",
      "2                             344.0                          323.0   \n",
      "3                             323.0                          308.0   \n",
      "4                             336.0                          335.0   \n",
      "\n",
      "   Departure delay (Minutes) Wheels-off time  Taxi-Out time (Minutes)  \\\n",
      "0                        0.0            7:45                     17.0   \n",
      "1                       -5.0            9:42                     25.0   \n",
      "2                        0.0           14:34                     40.0   \n",
      "3                       -3.0           23:23                     31.0   \n",
      "4                       -1.0           22:35                     16.0   \n",
      "\n",
      "   Delay Carrier (Minutes)  Delay Weather (Minutes)  \\\n",
      "0                      0.0                      0.0   \n",
      "1                      0.0                      0.0   \n",
      "2                      0.0                      0.0   \n",
      "3                      0.0                      0.0   \n",
      "4                      0.0                      0.0   \n",
      "\n",
      "   Delay National Aviation System (Minutes)  Delay Security (Minutes)  \\\n",
      "0                                       0.0                       0.0   \n",
      "1                                       0.0                       0.0   \n",
      "2                                       0.0                       0.0   \n",
      "3                                       0.0                       0.0   \n",
      "4                                       0.0                       0.0   \n",
      "\n",
      "   Delay Late Aircraft Arrival (Minutes)  \n",
      "0                                    0.0  \n",
      "1                                    0.0  \n",
      "2                                    0.0  \n",
      "3                                    0.0  \n",
      "4                                    0.0  \n",
      "\n",
      "Shape of the dataframe: (1242813, 17)\n"
     ]
    }
   ],
   "source": [
    "# Flight data for every SFO domestic passenger Airline from Jan 2010-Dec 2022\n",
    "file_names = ['Detailed_Statistics_Departures_1.csv',\n",
    "              'Detailed_Statistics_Departures_2.csv',\n",
    "              'Detailed_Statistics_Departures_3.csv',\n",
    "              'Detailed_Statistics_Departures_4.csv',\n",
    "              'Detailed_Statistics_Departures_5.csv',\n",
    "              'Detailed_Statistics_Departures_6.csv']\n",
    "\n",
    "# Initialize an empty dataframe\n",
    "combined_df = pd.DataFrame()\n",
    "\n",
    "# Read and concatenate the CSV files\n",
    "for file in file_names:\n",
    "    df = pd.read_csv(file)\n",
    "    combined_df = pd.concat([combined_df, df])\n",
    "\n",
    "# Reset the index of the combined dataframe\n",
    "combined_df = combined_df.reset_index(drop=True)\n",
    "\n",
    "# Drop rows containing NaN values\n",
    "combined_df = combined_df.dropna()\n",
    "\n",
    "# Display the combined dataframe and its shape\n",
    "print(combined_df.head())\n",
    "print(\"\\nShape of the dataframe:\", combined_df.shape)"
   ]
  },
  {
   "cell_type": "code",
   "execution_count": 4,
   "id": "d272c109",
   "metadata": {},
   "outputs": [
    {
     "name": "stdout",
     "output_type": "stream",
     "text": [
      "Column: Carrier Code\tData Type: object\n",
      "Column: Date (MM/DD/YYYY)\tData Type: object\n",
      "Column: Flight Number\tData Type: float64\n",
      "Column: Tail Number\tData Type: object\n",
      "Column: Destination Airport\tData Type: object\n",
      "Column: Scheduled departure time\tData Type: object\n",
      "Column: Actual departure time\tData Type: object\n",
      "Column: Scheduled elapsed time (Minutes)\tData Type: float64\n",
      "Column: Actual elapsed time (Minutes)\tData Type: float64\n",
      "Column: Departure delay (Minutes)\tData Type: float64\n",
      "Column: Wheels-off time\tData Type: object\n",
      "Column: Taxi-Out time (Minutes)\tData Type: float64\n",
      "Column: Delay Carrier (Minutes)\tData Type: float64\n",
      "Column: Delay Weather (Minutes)\tData Type: float64\n",
      "Column: Delay National Aviation System (Minutes)\tData Type: float64\n",
      "Column: Delay Security (Minutes)\tData Type: float64\n",
      "Column: Delay Late Aircraft Arrival (Minutes)\tData Type: float64\n"
     ]
    }
   ],
   "source": [
    "# Print column names and data types\n",
    "for column in combined_df.columns:\n",
    "    print(f\"Column: {column}\\tData Type: {combined_df[column].dtype}\")"
   ]
  },
  {
   "cell_type": "code",
   "execution_count": 5,
   "id": "3b790609",
   "metadata": {},
   "outputs": [
    {
     "name": "stdout",
     "output_type": "stream",
     "text": [
      "  Carrier Code Date (MM/DD/YYYY) Destination Airport Scheduled departure time  \\\n",
      "0           UA          1/1/2010                 JFK                     7:28   \n",
      "1           UA          1/1/2010                 JFK                     9:22   \n",
      "2           UA          1/1/2010                 JFK                    13:54   \n",
      "3           UA          1/1/2010                 PHL                    22:55   \n",
      "4           UA          1/1/2010                 JFK                    22:20   \n",
      "\n",
      "   Departure delay (Minutes)  \n",
      "0                        0.0  \n",
      "1                       -5.0  \n",
      "2                        0.0  \n",
      "3                       -3.0  \n",
      "4                       -1.0  \n",
      "\n",
      "Shape of the dataframe: (1242813, 5)\n"
     ]
    }
   ],
   "source": [
    "# List of columns to delete\n",
    "columns_to_delete = ['Flight Number', 'Tail Number', 'Actual departure time',\n",
    "                     'Scheduled elapsed time (Minutes)', 'Actual elapsed time (Minutes)',\n",
    "                     'Wheels-off time', 'Taxi-Out time (Minutes)', 'Delay Carrier (Minutes)', 'Delay Weather (Minutes)',\n",
    "                     'Delay National Aviation System (Minutes)', 'Delay Security (Minutes)',\n",
    "                     'Delay Late Aircraft Arrival (Minutes)']\n",
    "\n",
    "# Delete the specified columns\n",
    "combined_df = combined_df.drop(columns=columns_to_delete)\n",
    "\n",
    "# Display the modified dataframe\n",
    "print(combined_df.head())\n",
    "print(\"\\nShape of the dataframe:\", combined_df.shape)"
   ]
  },
  {
   "cell_type": "code",
   "execution_count": 6,
   "id": "75dcef6c",
   "metadata": {},
   "outputs": [
    {
     "name": "stdout",
     "output_type": "stream",
     "text": [
      "     Carrier Code Destination Airport Scheduled departure time  \\\n",
      "1135           UA                 TPA                    21:30   \n",
      "1136           UA                 LAX                    15:00   \n",
      "1137           UA                 EWR                    16:00   \n",
      "1138           UA                 ORD                    22:45   \n",
      "1139           UA                 LAX                    16:00   \n",
      "\n",
      "      Departure delay (Minutes)  Month  Day of Week  \n",
      "1135                       19.0      1            1  \n",
      "1136                       -5.0      1            1  \n",
      "1137                       -2.0      1            1  \n",
      "1138                       18.0      1            1  \n",
      "1139                       -5.0      1            1  \n",
      "\n",
      "Shape of the dataframe: (347440, 6)\n"
     ]
    }
   ],
   "source": [
    "# Extract month and day of the week from the \"Date (MM/DD/YYYY)\" column\n",
    "combined_df['Date (MM/DD/YYYY)'] = pd.to_datetime(combined_df['Date (MM/DD/YYYY)'])\n",
    "combined_df['Month'] = combined_df['Date (MM/DD/YYYY)'].dt.month\n",
    "combined_df['Day of Week'] = combined_df['Date (MM/DD/YYYY)'].dt.dayofweek\n",
    "\n",
    "# Filter out flights before 2019 (Done due to hardware restrictions)\n",
    "combined_df['Year'] = combined_df['Date (MM/DD/YYYY)'].dt.year\n",
    "combined_df = combined_df[combined_df['Year'] >= 2019]\n",
    "\n",
    "# Delete the 'Year' and 'Date (MM/DD/YYYY)' column\n",
    "combined_df = combined_df.drop('Year', axis=1)\n",
    "combined_df = combined_df.drop('Date (MM/DD/YYYY)', axis=1)\n",
    "\n",
    "# Display the modified dataframe\n",
    "print(combined_df.head())\n",
    "print(\"\\nShape of the dataframe:\", combined_df.shape)"
   ]
  },
  {
   "cell_type": "code",
   "execution_count": 7,
   "id": "16465fa6",
   "metadata": {},
   "outputs": [
    {
     "name": "stdout",
     "output_type": "stream",
     "text": [
      "     Carrier Code Destination Airport  Scheduled departure time  \\\n",
      "1135           UA                 TPA                      1290   \n",
      "1136           UA                 LAX                       900   \n",
      "1137           UA                 EWR                       960   \n",
      "1138           UA                 ORD                      1365   \n",
      "1139           UA                 LAX                       960   \n",
      "\n",
      "      Departure delay (Minutes)  Month  Day of Week  \n",
      "1135                       19.0      1            1  \n",
      "1136                       -5.0      1            1  \n",
      "1137                       -2.0      1            1  \n",
      "1138                       18.0      1            1  \n",
      "1139                       -5.0      1            1  \n",
      "\n",
      "Shape of the dataframe: (347440, 6)\n"
     ]
    }
   ],
   "source": [
    "# Convert \"Scheduled departure time\" column to minutes as an integer\n",
    "combined_df['Scheduled departure time'] = pd.to_datetime(combined_df['Scheduled departure time']).dt.hour * 60 + pd.to_datetime(combined_df['Scheduled departure time']).dt.minute\n",
    "\n",
    "# Display the modified dataframe\n",
    "print(combined_df.head())\n",
    "print(\"\\nShape of the dataframe:\", combined_df.shape)"
   ]
  },
  {
   "cell_type": "code",
   "execution_count": 8,
   "id": "7548ad62",
   "metadata": {
    "scrolled": true
   },
   "outputs": [
    {
     "name": "stdout",
     "output_type": "stream",
     "text": [
      "     Carrier Code Destination Airport  Scheduled departure time  Month  \\\n",
      "1135           UA                 TPA                      1290      1   \n",
      "1136           UA                 LAX                       900      1   \n",
      "1137           UA                 EWR                       960      1   \n",
      "1138           UA                 ORD                      1365      1   \n",
      "1139           UA                 LAX                       960      1   \n",
      "\n",
      "      Day of Week  Is Delayed  \n",
      "1135            1           1  \n",
      "1136            1           0  \n",
      "1137            1           0  \n",
      "1138            1           1  \n",
      "1139            1           0  \n",
      "\n",
      "Shape of the dataframe: (347440, 6)\n"
     ]
    }
   ],
   "source": [
    "# Add bool target variable 'Is Delayed'\n",
    "combined_df['Is Delayed'] = combined_df['Departure delay (Minutes)'] >= 15.0\n",
    "combined_df = combined_df.drop('Departure delay (Minutes)', axis=1)\n",
    "combined_df['Is Delayed'] = combined_df['Is Delayed'].astype(int)\n",
    "\n",
    "# Display the modified dataframe\n",
    "print(combined_df.head())\n",
    "print(\"\\nShape of the dataframe:\", combined_df.shape)"
   ]
  },
  {
   "cell_type": "code",
   "execution_count": 9,
   "id": "2d84ef52",
   "metadata": {
    "scrolled": true
   },
   "outputs": [
    {
     "name": "stdout",
     "output_type": "stream",
     "text": [
      "      Scheduled departure time  Is Delayed  Carrier Code_AA  Carrier Code_AS  \\\n",
      "1135                    1290.0         1.0              0.0              0.0   \n",
      "1136                     900.0         0.0              0.0              0.0   \n",
      "1137                     960.0         0.0              0.0              0.0   \n",
      "1138                    1365.0         1.0              0.0              0.0   \n",
      "1139                     960.0         0.0              0.0              0.0   \n",
      "\n",
      "      Carrier Code_B6  Carrier Code_DL  Carrier Code_UA  Carrier Code_WN  \\\n",
      "1135              0.0              0.0              1.0              0.0   \n",
      "1136              0.0              0.0              1.0              0.0   \n",
      "1137              0.0              0.0              1.0              0.0   \n",
      "1138              0.0              0.0              1.0              0.0   \n",
      "1139              0.0              0.0              1.0              0.0   \n",
      "\n",
      "      Destination Airport_ABQ  Destination Airport_ANC  ...  Month_10  \\\n",
      "1135                      0.0                      0.0  ...       0.0   \n",
      "1136                      0.0                      0.0  ...       0.0   \n",
      "1137                      0.0                      0.0  ...       0.0   \n",
      "1138                      0.0                      0.0  ...       0.0   \n",
      "1139                      0.0                      0.0  ...       0.0   \n",
      "\n",
      "      Month_11  Month_12  Day of Week_0  Day of Week_1  Day of Week_2  \\\n",
      "1135       0.0       0.0            1.0            0.0            0.0   \n",
      "1136       0.0       0.0            1.0            0.0            0.0   \n",
      "1137       0.0       0.0            1.0            0.0            0.0   \n",
      "1138       0.0       0.0            1.0            0.0            0.0   \n",
      "1139       0.0       0.0            1.0            0.0            0.0   \n",
      "\n",
      "      Day of Week_3  Day of Week_4  Day of Week_5  Day of Week_6  \n",
      "1135            0.0            0.0            0.0            0.0  \n",
      "1136            0.0            0.0            0.0            0.0  \n",
      "1137            0.0            0.0            0.0            0.0  \n",
      "1138            0.0            0.0            0.0            0.0  \n",
      "1139            0.0            0.0            0.0            0.0  \n",
      "\n",
      "[5 rows x 101 columns]\n",
      "\n",
      "Shape of the dataframe: (604076, 101)\n"
     ]
    }
   ],
   "source": [
    "# Perform one-hot encoding for categorical columns\n",
    "categorical_columns = ['Carrier Code', 'Destination Airport', 'Month', 'Day of Week']\n",
    "ohe = OneHotEncoder(sparse=False)\n",
    "ohe_results = ohe.fit_transform(combined_df[categorical_columns])\n",
    "ohe_df = pd.DataFrame(ohe_results, columns=ohe.get_feature_names_out(categorical_columns))\n",
    "combined_df = pd.concat([combined_df, ohe_df], axis=1)\n",
    "combined_df = combined_df.drop(combined_df[categorical_columns], axis = 1)\n",
    "\n",
    "# Display the modified dataframe\n",
    "print(combined_df.head())\n",
    "print(\"\\nShape of the dataframe:\", combined_df.shape)"
   ]
  },
  {
   "cell_type": "code",
   "execution_count": 10,
   "id": "8511d793",
   "metadata": {
    "scrolled": true
   },
   "outputs": [
    {
     "name": "stdout",
     "output_type": "stream",
     "text": [
      "Column: Scheduled departure time\tData Type: float64\n",
      "Column: Is Delayed\tData Type: float64\n",
      "Column: Carrier Code_AA\tData Type: float64\n",
      "Column: Carrier Code_AS\tData Type: float64\n",
      "Column: Carrier Code_B6\tData Type: float64\n",
      "Column: Carrier Code_DL\tData Type: float64\n",
      "Column: Carrier Code_UA\tData Type: float64\n",
      "Column: Carrier Code_WN\tData Type: float64\n",
      "Column: Destination Airport_ABQ\tData Type: float64\n",
      "Column: Destination Airport_ANC\tData Type: float64\n",
      "Column: Destination Airport_ATL\tData Type: float64\n",
      "Column: Destination Airport_AUS\tData Type: float64\n",
      "Column: Destination Airport_BDL\tData Type: float64\n",
      "Column: Destination Airport_BHM\tData Type: float64\n",
      "Column: Destination Airport_BNA\tData Type: float64\n",
      "Column: Destination Airport_BOI\tData Type: float64\n",
      "Column: Destination Airport_BOS\tData Type: float64\n",
      "Column: Destination Airport_BUR\tData Type: float64\n",
      "Column: Destination Airport_BWI\tData Type: float64\n",
      "Column: Destination Airport_BZN\tData Type: float64\n",
      "Column: Destination Airport_CLE\tData Type: float64\n",
      "Column: Destination Airport_CLT\tData Type: float64\n",
      "Column: Destination Airport_CMH\tData Type: float64\n",
      "Column: Destination Airport_CVG\tData Type: float64\n",
      "Column: Destination Airport_DAL\tData Type: float64\n",
      "Column: Destination Airport_DCA\tData Type: float64\n",
      "Column: Destination Airport_DEN\tData Type: float64\n",
      "Column: Destination Airport_DFW\tData Type: float64\n",
      "Column: Destination Airport_DTW\tData Type: float64\n",
      "Column: Destination Airport_EUG\tData Type: float64\n",
      "Column: Destination Airport_EWR\tData Type: float64\n",
      "Column: Destination Airport_FAI\tData Type: float64\n",
      "Column: Destination Airport_FCA\tData Type: float64\n",
      "Column: Destination Airport_FLL\tData Type: float64\n",
      "Column: Destination Airport_GEG\tData Type: float64\n",
      "Column: Destination Airport_GRB\tData Type: float64\n",
      "Column: Destination Airport_GSP\tData Type: float64\n",
      "Column: Destination Airport_GUM\tData Type: float64\n",
      "Column: Destination Airport_HNL\tData Type: float64\n",
      "Column: Destination Airport_IAD\tData Type: float64\n",
      "Column: Destination Airport_IAH\tData Type: float64\n",
      "Column: Destination Airport_IND\tData Type: float64\n",
      "Column: Destination Airport_JAC\tData Type: float64\n",
      "Column: Destination Airport_JFK\tData Type: float64\n",
      "Column: Destination Airport_KOA\tData Type: float64\n",
      "Column: Destination Airport_LAS\tData Type: float64\n",
      "Column: Destination Airport_LAX\tData Type: float64\n",
      "Column: Destination Airport_LGB\tData Type: float64\n",
      "Column: Destination Airport_LIH\tData Type: float64\n",
      "Column: Destination Airport_MCI\tData Type: float64\n",
      "Column: Destination Airport_MCO\tData Type: float64\n",
      "Column: Destination Airport_MDW\tData Type: float64\n",
      "Column: Destination Airport_MFR\tData Type: float64\n",
      "Column: Destination Airport_MIA\tData Type: float64\n",
      "Column: Destination Airport_MKE\tData Type: float64\n",
      "Column: Destination Airport_MSN\tData Type: float64\n",
      "Column: Destination Airport_MSP\tData Type: float64\n",
      "Column: Destination Airport_MSY\tData Type: float64\n",
      "Column: Destination Airport_OGG\tData Type: float64\n",
      "Column: Destination Airport_OMA\tData Type: float64\n",
      "Column: Destination Airport_ONT\tData Type: float64\n",
      "Column: Destination Airport_ORD\tData Type: float64\n",
      "Column: Destination Airport_PDX\tData Type: float64\n",
      "Column: Destination Airport_PHL\tData Type: float64\n",
      "Column: Destination Airport_PHX\tData Type: float64\n",
      "Column: Destination Airport_PIT\tData Type: float64\n",
      "Column: Destination Airport_PSP\tData Type: float64\n",
      "Column: Destination Airport_RDM\tData Type: float64\n",
      "Column: Destination Airport_RDU\tData Type: float64\n",
      "Column: Destination Airport_RNO\tData Type: float64\n",
      "Column: Destination Airport_RSW\tData Type: float64\n",
      "Column: Destination Airport_SAN\tData Type: float64\n",
      "Column: Destination Airport_SAT\tData Type: float64\n",
      "Column: Destination Airport_SBA\tData Type: float64\n",
      "Column: Destination Airport_SBN\tData Type: float64\n",
      "Column: Destination Airport_SDF\tData Type: float64\n",
      "Column: Destination Airport_SEA\tData Type: float64\n",
      "Column: Destination Airport_SLC\tData Type: float64\n",
      "Column: Destination Airport_SMF\tData Type: float64\n",
      "Column: Destination Airport_SNA\tData Type: float64\n",
      "Column: Destination Airport_STL\tData Type: float64\n",
      "Column: Destination Airport_TPA\tData Type: float64\n",
      "Column: Month_1\tData Type: float64\n",
      "Column: Month_2\tData Type: float64\n",
      "Column: Month_3\tData Type: float64\n",
      "Column: Month_4\tData Type: float64\n",
      "Column: Month_5\tData Type: float64\n",
      "Column: Month_6\tData Type: float64\n",
      "Column: Month_7\tData Type: float64\n",
      "Column: Month_8\tData Type: float64\n",
      "Column: Month_9\tData Type: float64\n",
      "Column: Month_10\tData Type: float64\n",
      "Column: Month_11\tData Type: float64\n",
      "Column: Month_12\tData Type: float64\n",
      "Column: Day of Week_0\tData Type: float64\n",
      "Column: Day of Week_1\tData Type: float64\n",
      "Column: Day of Week_2\tData Type: float64\n",
      "Column: Day of Week_3\tData Type: float64\n",
      "Column: Day of Week_4\tData Type: float64\n",
      "Column: Day of Week_5\tData Type: float64\n",
      "Column: Day of Week_6\tData Type: float64\n"
     ]
    }
   ],
   "source": [
    "# Print every column name and its data type\n",
    "for column in combined_df.columns:\n",
    "    print(f\"Column: {column}\\tData Type: {combined_df[column].dtypes}\")"
   ]
  },
  {
   "cell_type": "code",
   "execution_count": 11,
   "id": "31083fb2",
   "metadata": {
    "scrolled": true
   },
   "outputs": [
    {
     "name": "stdout",
     "output_type": "stream",
     "text": [
      "Scheduled departure time    256636\n",
      "Is Delayed                  256636\n",
      "Carrier Code_AA             256636\n",
      "Carrier Code_AS             256636\n",
      "Carrier Code_B6             256636\n",
      "                             ...  \n",
      "Day of Week_2               256636\n",
      "Day of Week_3               256636\n",
      "Day of Week_4               256636\n",
      "Day of Week_5               256636\n",
      "Day of Week_6               256636\n",
      "Length: 101, dtype: int64\n",
      "Scheduled departure time    0\n",
      "Is Delayed                  0\n",
      "Carrier Code_AA             0\n",
      "Carrier Code_AS             0\n",
      "Carrier Code_B6             0\n",
      "                           ..\n",
      "Day of Week_2               0\n",
      "Day of Week_3               0\n",
      "Day of Week_4               0\n",
      "Day of Week_5               0\n",
      "Day of Week_6               0\n",
      "Length: 101, dtype: int64\n"
     ]
    }
   ],
   "source": [
    "# Check for any missing values\n",
    "print(combined_df.isnull().sum())\n",
    "\n",
    "# Drop rows with any missing values\n",
    "combined_df = combined_df.dropna()\n",
    "print(combined_df.isnull().sum())"
   ]
  },
  {
   "cell_type": "code",
   "execution_count": 12,
   "id": "4c03ef0f",
   "metadata": {},
   "outputs": [],
   "source": [
    "# Define features and target\n",
    "features = combined_df.drop(['Is Delayed'], axis=1)\n",
    "target = combined_df['Is Delayed']"
   ]
  },
  {
   "cell_type": "code",
   "execution_count": 13,
   "id": "f62708f2",
   "metadata": {},
   "outputs": [
    {
     "data": {
      "image/png": "[encoded data removed]",
      "text/plain": [
       "<Figure size 576x432 with 1 Axes>"
      ]
     },
     "metadata": {
      "needs_background": "light"
     },
     "output_type": "display_data"
    }
   ],
   "source": [
    "# Train a Random Forest Classifier with different numbers of trees\n",
    "trees = range(100, 301, 100)\n",
    "oob_errors = []\n",
    "\n",
    "for n_trees in trees:\n",
    "    rf_classifier = RandomForestClassifier(n_estimators=n_trees, oob_score=True, random_state=42)\n",
    "    rf_classifier.fit(features, target)\n",
    "    \n",
    "    # Calculate out-of-bag (OOB) error\n",
    "    oob_error = 1 - rf_classifier.oob_score_\n",
    "    oob_errors.append(oob_error)\n",
    "\n",
    "# Plot OOB error vs number of trees\n",
    "plt.figure(figsize=(8, 6))\n",
    "plt.plot(trees, oob_errors, marker='o')\n",
    "plt.xlabel(\"Number of Trees\")\n",
    "plt.ylabel(\"OOB Error\")\n",
    "plt.title(\"OOB Error vs Number of Trees\")\n",
    "plt.show()"
   ]
  },
  {
   "cell_type": "code",
   "execution_count": 14,
   "id": "65eea153",
   "metadata": {},
   "outputs": [
    {
     "data": {
      "image/png": "[encoded data removed]",
      "text/plain": [
       "<Figure size 576x432 with 1 Axes>"
      ]
     },
     "metadata": {
      "needs_background": "light"
     },
     "output_type": "display_data"
    }
   ],
   "source": [
    "# Train a Random Forest Classifier with different numbers of trees\n",
    "trees = range(10, 101, 10)\n",
    "oob_errors = []\n",
    "\n",
    "for n_trees in trees:\n",
    "    rf_classifier = RandomForestClassifier(n_estimators=n_trees, oob_score=True, random_state=42)\n",
    "    rf_classifier.fit(features, target)\n",
    "    \n",
    "    # Calculate out-of-bag (OOB) error\n",
    "    oob_error = 1 - rf_classifier.oob_score_\n",
    "    oob_errors.append(oob_error)\n",
    "\n",
    "# Plot OOB error vs number of trees\n",
    "plt.figure(figsize=(8, 6))\n",
    "plt.plot(trees, oob_errors, marker='o')\n",
    "plt.xlabel(\"Number of Trees\")\n",
    "plt.ylabel(\"OOB Error\")\n",
    "plt.title(\"OOB Error vs Number of Trees\")\n",
    "plt.show()"
   ]
  },
  {
   "cell_type": "code",
   "execution_count": 15,
   "id": "240c046c",
   "metadata": {},
   "outputs": [
    {
     "data": {
      "image/png": "[encoded data removed]",
      "text/plain": [
       "<Figure size 576x432 with 1 Axes>"
      ]
     },
     "metadata": {
      "needs_background": "light"
     },
     "output_type": "display_data"
    }
   ],
   "source": [
    "# Train a Random Forest Classifier with different numbers of trees\n",
    "trees = range(11, 29, 1)\n",
    "oob_errors = []\n",
    "\n",
    "for n_trees in trees:\n",
    "    rf_classifier = RandomForestClassifier(n_estimators=n_trees, oob_score=True, random_state=42)\n",
    "    rf_classifier.fit(features, target)\n",
    "    \n",
    "    # Calculate out-of-bag (OOB) error\n",
    "    oob_error = 1 - rf_classifier.oob_score_\n",
    "    oob_errors.append(oob_error)\n",
    "\n",
    "# Plot OOB error vs number of trees\n",
    "plt.figure(figsize=(8, 6))\n",
    "plt.plot(trees, oob_errors, marker='o')\n",
    "plt.xlabel(\"Number of Trees\")\n",
    "plt.ylabel(\"OOB Error\")\n",
    "plt.title(\"OOB Error vs Number of Trees\")\n",
    "plt.show()"
   ]
  },
  {
   "cell_type": "code",
   "execution_count": 16,
   "id": "75f02dda",
   "metadata": {},
   "outputs": [
    {
     "data": {
      "image/png": "[encoded data removed]",
      "text/plain": [
       "<Figure size 432x288 with 1 Axes>"
      ]
     },
     "metadata": {
      "needs_background": "light"
     },
     "output_type": "display_data"
    }
   ],
   "source": [
    "# Range of ccp_alpha values to test\n",
    "ccp_alphas = [0.0, 0.0000012, 0.0000025, 0.000005, 0.00001, 0.00002, 0.00003]\n",
    "\n",
    "# Initialize lists to store OOB accuracies, F1 scores, and alpha values\n",
    "oob_accuracies = []\n",
    "f1_scores = []\n",
    "alpha_values = []\n",
    "\n",
    "# Iterate over different ccp_alpha values\n",
    "for alpha in ccp_alphas:\n",
    "    # Create a random forest classifier with 26 trees and the current ccp_alpha value\n",
    "    rf_classifier = RandomForestClassifier(n_estimators=26, random_state=42, ccp_alpha=alpha, oob_score=True)\n",
    "    \n",
    "    # Fit the classifier on the data\n",
    "    rf_classifier.fit(features, target)\n",
    "    \n",
    "    # Obtain the OOB predictions\n",
    "    oob_predictions = rf_classifier.oob_decision_function_\n",
    "\n",
    "    # Convert the OOB predictions to discrete class labels\n",
    "    oob_predictions = [int(prediction[1] >= 0.5) for prediction in oob_predictions]\n",
    "    \n",
    "    # Calculate the OOB F1 score\n",
    "    oob_f1 = f1_score(target, oob_predictions)\n",
    "    \n",
    "    # Calculate the OOB accuracy\n",
    "    oob_accuracy = rf_classifier.oob_score_\n",
    "    \n",
    "    # Append the values to the lists\n",
    "    oob_accuracies.append(oob_accuracy)\n",
    "    f1_scores.append(oob_f1)\n",
    "    alpha_values.append(alpha)\n",
    "\n",
    "# Plot the F1 scores and OOB accuracies\n",
    "plt.plot(alpha_values, f1_scores, label='F1 Score')\n",
    "plt.plot(alpha_values, oob_accuracies, label='OOB Accuracy')\n",
    "plt.xlabel('Alpha Values')\n",
    "plt.ylabel('Score')\n",
    "plt.legend()\n",
    "plt.title('F1 Score and OOB Accuracy vs. Alpha Values')\n",
    "plt.show()"
   ]
  },
  {
   "cell_type": "code",
   "execution_count": 17,
   "id": "0e9bb791",
   "metadata": {},
   "outputs": [
    {
     "data": {
      "image/png": "[encoded data removed]",
      "text/plain": [
       "<Figure size 432x288 with 1 Axes>"
      ]
     },
     "metadata": {
      "needs_background": "light"
     },
     "output_type": "display_data"
    }
   ],
   "source": [
    "# Train a Random Forest Classifier with different numbers of trees\n",
    "trees = range(10, 101, 10)\n",
    "\n",
    "# Initialize lists to store OOB accuracies\n",
    "oob_accuracies = []\n",
    "f1_scores = []\n",
    "\n",
    "# Train and evaluate the random forest for different tree values\n",
    "for n_trees in trees:\n",
    "    # Create a random forest classifier with the specified number of trees and ccp_alpha\n",
    "    rf_classifier = RandomForestClassifier(n_estimators=n_trees, random_state=42, ccp_alpha=0.000005, oob_score=True)\n",
    "    \n",
    "    # Fit the classifier on the data\n",
    "    rf_classifier.fit(features, target)\n",
    "    \n",
    "    # Obtain the OOB predictions\n",
    "    oob_predictions = rf_classifier.oob_decision_function_\n",
    "\n",
    "    # Convert the OOB predictions to discrete class labels\n",
    "    oob_predictions = [int(prediction[1] >= 0.5) for prediction in oob_predictions]\n",
    "\n",
    "    # Calculate the OOB F1 score\n",
    "    oob_f1 = f1_score(target, oob_predictions)\n",
    "    \n",
    "    # Calculate the OOB accuracy\n",
    "    oob_accuracy = rf_classifier.oob_score_\n",
    "    \n",
    "    # Append the values to the lists\n",
    "    oob_accuracies.append(oob_accuracy)\n",
    "    f1_scores.append(oob_f1)\n",
    "\n",
    "# Plot the OOB accuracy as a function of the number of trees\n",
    "plt.plot(trees, f1_scores, label='F1 Score')\n",
    "plt.plot(trees, oob_accuracies, label='OOB Accuracy')\n",
    "plt.xlabel('Number of Trees')\n",
    "plt.ylabel('Score')\n",
    "plt.legend()\n",
    "plt.title('F1 Score and OOB Accuracy vs. Number of Trees')\n",
    "plt.show()"
   ]
  },
  {
   "cell_type": "code",
   "execution_count": 18,
   "id": "a9e64e84",
   "metadata": {
    "scrolled": false
   },
   "outputs": [
    {
     "data": {
      "image/png": "[encoded data removed]",
      "text/plain": [
       "<Figure size 432x288 with 1 Axes>"
      ]
     },
     "metadata": {
      "needs_background": "light"
     },
     "output_type": "display_data"
    }
   ],
   "source": [
    "# Train a Random Forest Classifier with different numbers of trees\n",
    "trees = range(1, 21, 1)\n",
    "\n",
    "# Initialize lists to store OOB accuracies\n",
    "oob_accuracies = []\n",
    "f1_scores = []\n",
    "\n",
    "# Train and evaluate the random forest for different tree values\n",
    "for n_trees in trees:\n",
    "    # Create a random forest classifier with the specified number of trees and ccp_alpha\n",
    "    rf_classifier = RandomForestClassifier(n_estimators=n_trees, random_state=42, ccp_alpha=0.000005, oob_score=True)\n",
    "    \n",
    "    # Fit the classifier on the data\n",
    "    rf_classifier.fit(features, target)\n",
    "    \n",
    "    # Obtain the OOB predictions\n",
    "    oob_predictions = rf_classifier.oob_decision_function_\n",
    "\n",
    "    # Convert the OOB predictions to discrete class labels\n",
    "    oob_predictions = [int(prediction[1] >= 0.5) for prediction in oob_predictions]\n",
    "    \n",
    "    # Calculate the OOB F1 score\n",
    "    oob_f1 = f1_score(target, oob_predictions)\n",
    "    \n",
    "    # Calculate the OOB accuracy\n",
    "    oob_accuracy = rf_classifier.oob_score_\n",
    "    \n",
    "    # Append the values to the lists\n",
    "    oob_accuracies.append(oob_accuracy)\n",
    "    f1_scores.append(oob_f1)\n",
    "\n",
    "# Plot the OOB accuracy as a function of the number of trees\n",
    "plt.plot(trees, f1_scores, label='F1 Score')\n",
    "plt.xlabel('Number of Trees')\n",
    "plt.ylabel('Score')\n",
    "plt.legend()\n",
    "plt.title('F1 Score vs. Number of Trees')\n",
    "plt.show()"
   ]
  },
  {
   "cell_type": "code",
   "execution_count": 19,
   "id": "974bcf01",
   "metadata": {},
   "outputs": [
    {
     "data": {
      "text/plain": [
       "[0.11471568892493465,\n",
       " 0.16984542738038147,\n",
       " 0.19637223974763407,\n",
       " 0.21006605265606101,\n",
       " 0.21628152847001963,\n",
       " 0.21788413098236775,\n",
       " 0.21851070244196563,\n",
       " 0.21789550781250003,\n",
       " 0.21626126682306454,\n",
       " 0.2121763119944824,\n",
       " 0.2092659408027076,\n",
       " 0.2092895290500081,\n",
       " 0.20812049770792404,\n",
       " 0.2068668104163211,\n",
       " 0.2035892123115998,\n",
       " 0.20256410256410257,\n",
       " 0.2014246947082768,\n",
       " 0.20073664825046042,\n",
       " 0.19925186176601806,\n",
       " 0.19823986194995685]"
      ]
     },
     "execution_count": 19,
     "metadata": {},
     "output_type": "execute_result"
    }
   ],
   "source": [
    "f1_scores"
   ]
  },
  {
   "cell_type": "code",
   "execution_count": 20,
   "id": "e25d5ff0",
   "metadata": {},
   "outputs": [
    {
     "name": "stdout",
     "output_type": "stream",
     "text": [
      "Confusion: \n",
      "[[61258 13044]\n",
      " [12878  3624]]\n",
      "F1 score:  0.21851070244196563\n",
      "Accuracy:  0.7506717765737192\n"
     ]
    }
   ],
   "source": [
    "#Final Model\n",
    "# Create a random forest classifier\n",
    "rf_classifier = RandomForestClassifier(n_estimators=7, random_state=42, ccp_alpha=0.000005, oob_score=True)\n",
    "    \n",
    "# Fit the classifier on the data\n",
    "rf_classifier.fit(features, target)\n",
    "\n",
    "# Obtain the OOB predictions\n",
    "oob_predictions = rf_classifier.oob_decision_function_\n",
    "\n",
    "# Convert the OOB predictions to discrete class labels\n",
    "oob_predictions = [int(prediction[1] >= 0.5) for prediction in oob_predictions]\n",
    "\n",
    "# Calculate the OOB F1 score\n",
    "oob_f1 = f1_score(target, oob_predictions)\n",
    "\n",
    "# Calculate the OOB accuracy\n",
    "oob_accuracy = rf_classifier.oob_score_\n",
    "\n",
    "# Create the confusion matrix\n",
    "confusion = confusion_matrix(target, oob_predictions)\n",
    "\n",
    "print(\"Confusion: \")\n",
    "print(confusion)\n",
    "print(\"F1 score: \", oob_f1)\n",
    "print(\"Accuracy: \", oob_accuracy)"
   ]
  },
  {
   "cell_type": "code",
   "execution_count": null,
   "id": "70491467",
   "metadata": {},
   "outputs": [],
   "source": []
  }
 ],
 "metadata": {
  "kernelspec": {
   "display_name": "Python 3 (ipykernel)",
   "language": "python",
   "name": "python3"
  },
  "language_info": {
   "codemirror_mode": {
    "name": "ipython",
    "version": 3
   },
   "file_extension": ".py",
   "mimetype": "text/x-python",
   "name": "python",
   "nbconvert_exporter": "python",
   "pygments_lexer": "ipython3",
   "version": "3.9.12"
  }
 },
 "nbformat": 4,
 "nbformat_minor": 5
}
